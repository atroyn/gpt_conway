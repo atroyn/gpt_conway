{
 "cells": [
  {
   "cell_type": "code",
   "execution_count": 1,
   "metadata": {},
   "outputs": [],
   "source": [
    "import numpy as np\n",
    "import matplotlib.pyplot as plt"
   ]
  },
  {
   "cell_type": "code",
   "execution_count": 15,
   "metadata": {},
   "outputs": [],
   "source": [
    "def update(board):\n",
    "    \"\"\"Update the board based on Conway's Game of Life rules.\"\"\"\n",
    "    new_board = board.copy()\n",
    "    rows, cols = board.shape\n",
    "\n",
    "    for x in range(rows):\n",
    "        for y in range(cols):\n",
    "            # Count the 8 neighbors\n",
    "            neighbors = (\n",
    "                np.sum(\n",
    "                    board[\n",
    "                        max(x - 1, 0) : min(x + 2, rows),\n",
    "                        max(y - 1, 0) : min(y + 2, cols),\n",
    "                    ]\n",
    "                )\n",
    "                - board[x, y]\n",
    "            )\n",
    "\n",
    "            # Apply the rules of Conway's Game of Life\n",
    "            if board[x, y] and not 2 <= neighbors <= 3:\n",
    "                new_board[x, y] = 0\n",
    "            elif not board[x, y] and neighbors == 3:\n",
    "                new_board[x, y] = 1\n",
    "\n",
    "    return new_board"
   ]
  },
  {
   "cell_type": "code",
   "execution_count": 16,
   "metadata": {},
   "outputs": [],
   "source": [
    "generated_file = open(\"generated.txt\", \"r\")\n",
    "simulated_file = open(\"simulated.txt\", \"r\")\n",
    "predicted_file = open(\"predicted.txt\", \"r\")\n",
    "\n",
    "# Load the boards from the files. Each row is one line of the file. Boards are separated by newlines.\n",
    "generated_boards = [\n",
    "    np.array([[int(c) for c in line] for line in board.split(\"\\n\")])\n",
    "    for board in generated_file.read().split(\"\\n\\n\")[:-1]\n",
    "]\n",
    "simulated_boards = [\n",
    "    update(np.array([[int(c) for c in line] for line in board.split(\"\\n\")]))\n",
    "    for board in simulated_file.read().split(\"\\n\\n\")[:-1]\n",
    "]\n",
    "predicted_boards = [\n",
    "    np.array([[int(c) for c in line] for line in board.split(\"\\n\")])\n",
    "    for board in predicted_file.read().split(\"\\n\\n\")[:-1]\n",
    "]"
   ]
  },
  {
   "cell_type": "code",
   "execution_count": 26,
   "metadata": {},
   "outputs": [
    {
     "name": "stdout",
     "output_type": "stream",
     "text": [
      "Accuracy: 0.6145467032967034\n",
      "Simulated transitions:\n",
      "[[0.39116157 0.10928915]\n",
      " [0.33108688 0.1684624 ]]\n",
      "Predicted transitions:\n",
      "[[0.42721927 0.07323146]\n",
      " [0.31286487 0.18668441]]\n",
      "Correct transitions:\n",
      "[[0.8430727  0.10840534]\n",
      " [0.63224426 0.38539941]]\n"
     ]
    }
   ],
   "source": [
    " # Compute the accuracy of the model against the simulation\n",
    "n_different = 0\n",
    "n_total = 0\n",
    "difference_board = np.zeros(generated_boards[0].shape)\n",
    "\n",
    "correct_count = np.zeros(2**9)\n",
    "predicted_alive = np.zeros(2**9)\n",
    "predicted_dead = np.zeros(2**9)\n",
    "totals = np.zeros(2**9)\n",
    "\n",
    "simulated_transitions = np.zeros((2,2))\n",
    "predicted_transitions = np.zeros((2,2))\n",
    "correct_transitions = np.zeros((2,2))\n",
    "transitions_count = np.zeros((2,2))\n",
    "\n",
    "for generated_board, simulated_board, predicted_board in zip(\n",
    "    generated_boards, simulated_boards, predicted_boards\n",
    "):\n",
    "    difference_board += np.abs(simulated_board - predicted_board)\n",
    "\n",
    "    n_different += np.sum(np.abs(simulated_board - predicted_board))\n",
    "    n_total += np.prod(simulated_board.shape)\n",
    "\n",
    "    for i in range(1, generated_board.shape[0] - 1):\n",
    "        for j in range(1, generated_board.shape[1] - 1):\n",
    "            subgrid = generated_board[i - 1 : i + 2, j - 1 : j + 2]\n",
    "            # Convert the subgrid to its integer index from its binary representation\n",
    "            subgrid_index = int(\"\".join(str(c) for c in subgrid.flatten()), 2)\n",
    "\n",
    "            transitions_count[generated_board[i, j], simulated_board[i, j]] += 1\n",
    "\n",
    "            if predicted_board[i, j] == simulated_board[i, j]:\n",
    "                correct_count[subgrid_index] += 1\n",
    "                correct_transitions[generated_board[i, j], predicted_board[i, j]] += 1\n",
    "\n",
    "            if predicted_board[i, j] == 1:\n",
    "                predicted_alive[subgrid_index] += 1\n",
    "            else:\n",
    "                predicted_dead[subgrid_index] += 1\n",
    "\n",
    "            totals[subgrid_index] += 1\n",
    "\n",
    "            simulated_transitions[generated_board[i, j], simulated_board[i, j]] += 1\n",
    "            predicted_transitions[generated_board[i, j], predicted_board[i, j]] += 1\n",
    "\n",
    "print(f\"Accuracy: {1 - n_different / n_total}\")\n",
    "print(f\"Simulated transitions:\\n{simulated_transitions/np.sum(simulated_transitions)}\")\n",
    "print(f\"Predicted transitions:\\n{predicted_transitions/np.sum(predicted_transitions)}\")\n",
    "print(f\"Correct transitions:\\n{correct_transitions/transitions_count}\")"
   ]
  },
  {
   "cell_type": "code",
   "execution_count": 25,
   "metadata": {},
   "outputs": [
    {
     "data": {
      "text/plain": [
       "46592.0"
      ]
     },
     "execution_count": 25,
     "metadata": {},
     "output_type": "execute_result"
    }
   ],
   "source": [
    "np.sum(transitions_count)"
   ]
  },
  {
   "cell_type": "code",
   "execution_count": 18,
   "metadata": {},
   "outputs": [
    {
     "name": "stdout",
     "output_type": "stream",
     "text": [
      "Confusion matrix:\n",
      "[[0.72843803 0.27156197]\n",
      " [0.70462428 0.29537572]]\n"
     ]
    }
   ],
   "source": [
    "# Compute the confusion matrix\n",
    "confusion_matrix = np.zeros((2, 2))\n",
    "\n",
    "for generated_board, simulated_board, predicted_board in zip(\n",
    "    generated_boards, simulated_boards, predicted_boards\n",
    "):\n",
    "    for i in range(1, generated_board.shape[0] - 1):\n",
    "        for j in range(1, generated_board.shape[1] - 1):\n",
    "            confusion_matrix[predicted_board[i, j], simulated_board[i, j]] += 1\n",
    "\n",
    "# Compute percentages\n",
    "confusion_matrix /= np.sum(confusion_matrix, axis=1, keepdims=True)\n",
    "\n",
    "print(\"Confusion matrix:\")\n",
    "print(confusion_matrix)"
   ]
  },
  {
   "cell_type": "code",
   "execution_count": 19,
   "metadata": {},
   "outputs": [
    {
     "data": {
      "image/png": "[encoded data removed]",
      "text/plain": [
       "<Figure size 640x480 with 2 Axes>"
      ]
     },
     "metadata": {},
     "output_type": "display_data"
    }
   ],
   "source": [
    "# Plot the difference board, with the legend indicating the number of boards that were different at each cell\n",
    "plt.imshow(difference_board, norm=plt.Normalize(0, len(generated_boards)))\n",
    "plt.colorbar()\n",
    "plt.show()"
   ]
  },
  {
   "cell_type": "code",
   "execution_count": 20,
   "metadata": {},
   "outputs": [
    {
     "data": {
      "image/png": "[encoded data removed]",
      "text/plain": [
       "<Figure size 640x480 with 1 Axes>"
      ]
     },
     "metadata": {},
     "output_type": "display_data"
    }
   ],
   "source": [
    "# Plot a bar chart of the percentage of correct predictions per subgrid\n",
    "plt.bar(\n",
    "    range(2**9),\n",
    "    correct_count / totals,\n",
    "    color=\"blue\",\n",
    "    label=\"Correct\",\n",
    "    alpha=0.5,\n",
    ")\n",
    "plt.show()"
   ]
  },
  {
   "cell_type": "code",
   "execution_count": 28,
   "metadata": {},
   "outputs": [
    {
     "data": {
      "image/png": "[encoded data removed]",
      "text/plain": [
       "<Figure size 640x480 with 1 Axes>"
      ]
     },
     "metadata": {},
     "output_type": "display_data"
    },
    {
     "name": "stdout",
     "output_type": "stream",
     "text": [
      "Weighted entropy: 0.31139033589205495\n"
     ]
    }
   ],
   "source": [
    "# Compute the weighted entropy of the alive / dead predictions\n",
    "entropy = np.zeros(2**9)\n",
    "p_alive = np.zeros(2**9)\n",
    "p_dead = np.zeros(2**9)\n",
    "for i in range(2**9):\n",
    "    if totals[i] == 0:\n",
    "        continue\n",
    "    p_alive[i] = predicted_alive[i] / totals[i]\n",
    "    p_dead[i] = predicted_dead[i] / totals[i]\n",
    "\n",
    "    # Compute the entropy, catching NaNs\n",
    "    entropy[i] = (\n",
    "        -p_alive[i] * np.log(p_alive[i])\n",
    "        if p_alive[i] > 0\n",
    "        else 0 - p_dead[i] * np.log(p_dead[i])\n",
    "        if p_dead[i] > 0\n",
    "        else 0\n",
    "    )\n",
    "\n",
    "# Plot a bar chart of the entropy per subgrid\n",
    "plt.bar(range(2**9), entropy, color=\"red\", label=\"Entropy\", alpha=0.5)\n",
    "plt.show()\n",
    "\n",
    "# Compute the weighted entropy of the alive / dead predictions\n",
    "weights = totals / np.sum(totals)\n",
    "weighted_entropy = np.sum(weights * entropy)\n",
    "print(f\"Weighted entropy: {weighted_entropy}\")"
   ]
  },
  {
   "cell_type": "code",
   "execution_count": 29,
   "metadata": {},
   "outputs": [
    {
     "name": "stdout",
     "output_type": "stream",
     "text": [
      "Consistency: 0.46583223789777933\n"
     ]
    }
   ],
   "source": [
    "states_predictions_file = open(\"predicted_next_states.txt\", \"r\")\n",
    "states_computed_file = open(\"simulated_next_states.txt\", \"r\")\n",
    "\n",
    "consistency = 0\n",
    "for i in range(2**9):\n",
    "    predicted = int(states_predictions_file.readline())\n",
    "    if predicted == 0:\n",
    "        consistency += p_dead[i]\n",
    "    else:\n",
    "        consistency += p_alive[i]\n",
    "\n",
    "print(f\"Consistency: {consistency / 2**9}\")\n"
   ]
  }
 ],
 "metadata": {
  "kernelspec": {
   "display_name": "gpt-conway",
   "language": "python",
   "name": "python3"
  },
  "language_info": {
   "codemirror_mode": {
    "name": "ipython",
    "version": 3
   },
   "file_extension": ".py",
   "mimetype": "text/x-python",
   "name": "python",
   "nbconvert_exporter": "python",
   "pygments_lexer": "ipython3",
   "version": "3.10.12"
  }
 },
 "nbformat": 4,
 "nbformat_minor": 2
}
